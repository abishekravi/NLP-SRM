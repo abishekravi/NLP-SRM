{
 "cells": [
  {
   "cell_type": "code",
   "execution_count": 3,
   "id": "f0c1dc54",
   "metadata": {},
   "outputs": [
    {
     "name": "stdout",
     "output_type": "stream",
     "text": [
      "Collecting pytorch-transformers\n",
      "  Downloading pytorch_transformers-1.2.0-py3-none-any.whl (176 kB)\n",
      "Collecting sacremoses\n",
      "  Downloading sacremoses-0.0.49-py3-none-any.whl (895 kB)\n",
      "Requirement already satisfied: requests in d:\\downloads\\anaconda\\anaconda\\lib\\site-packages (from pytorch-transformers) (2.25.1)\n",
      "Collecting sentencepiece\n",
      "  Downloading sentencepiece-0.1.96-cp38-cp38-win_amd64.whl (1.1 MB)\n",
      "Requirement already satisfied: numpy in d:\\downloads\\anaconda\\anaconda\\lib\\site-packages (from pytorch-transformers) (1.20.1)\n",
      "Requirement already satisfied: tqdm in d:\\downloads\\anaconda\\anaconda\\lib\\site-packages (from pytorch-transformers) (4.59.0)\n",
      "Collecting boto3\n",
      "  Downloading boto3-1.21.28-py3-none-any.whl (132 kB)\n",
      "Collecting torch>=1.0.0\n",
      "  Downloading torch-1.11.0-cp38-cp38-win_amd64.whl (158.0 MB)\n",
      "Requirement already satisfied: regex in d:\\downloads\\anaconda\\anaconda\\lib\\site-packages (from pytorch-transformers) (2021.4.4)\n",
      "Requirement already satisfied: typing-extensions in d:\\downloads\\anaconda\\anaconda\\lib\\site-packages (from torch>=1.0.0->pytorch-transformers) (3.7.4.3)\n",
      "Collecting s3transfer<0.6.0,>=0.5.0\n",
      "  Downloading s3transfer-0.5.2-py3-none-any.whl (79 kB)\n",
      "Collecting botocore<1.25.0,>=1.24.28\n",
      "  Downloading botocore-1.24.28-py3-none-any.whl (8.6 MB)\n",
      "Collecting jmespath<2.0.0,>=0.7.1\n",
      "  Downloading jmespath-1.0.0-py3-none-any.whl (23 kB)\n",
      "Requirement already satisfied: urllib3<1.27,>=1.25.4 in d:\\downloads\\anaconda\\anaconda\\lib\\site-packages (from botocore<1.25.0,>=1.24.28->boto3->pytorch-transformers) (1.26.4)\n",
      "Requirement already satisfied: python-dateutil<3.0.0,>=2.1 in d:\\downloads\\anaconda\\anaconda\\lib\\site-packages (from botocore<1.25.0,>=1.24.28->boto3->pytorch-transformers) (2.8.1)\n",
      "Requirement already satisfied: six>=1.5 in d:\\downloads\\anaconda\\anaconda\\lib\\site-packages (from python-dateutil<3.0.0,>=2.1->botocore<1.25.0,>=1.24.28->boto3->pytorch-transformers) (1.15.0)\n",
      "Requirement already satisfied: certifi>=2017.4.17 in d:\\downloads\\anaconda\\anaconda\\lib\\site-packages (from requests->pytorch-transformers) (2020.12.5)\n",
      "Requirement already satisfied: idna<3,>=2.5 in d:\\downloads\\anaconda\\anaconda\\lib\\site-packages (from requests->pytorch-transformers) (2.10)\n",
      "Requirement already satisfied: chardet<5,>=3.0.2 in d:\\downloads\\anaconda\\anaconda\\lib\\site-packages (from requests->pytorch-transformers) (4.0.0)\n",
      "Requirement already satisfied: click in d:\\downloads\\anaconda\\anaconda\\lib\\site-packages (from sacremoses->pytorch-transformers) (7.1.2)\n",
      "Requirement already satisfied: joblib in d:\\downloads\\anaconda\\anaconda\\lib\\site-packages (from sacremoses->pytorch-transformers) (1.0.1)\n",
      "Installing collected packages: jmespath, botocore, s3transfer, torch, sentencepiece, sacremoses, boto3, pytorch-transformers\n",
      "Successfully installed boto3-1.21.28 botocore-1.24.28 jmespath-1.0.0 pytorch-transformers-1.2.0 s3transfer-0.5.2 sacremoses-0.0.49 sentencepiece-0.1.96 torch-1.11.0\n",
      "Note: you may need to restart the kernel to use updated packages.\n"
     ]
    }
   ],
   "source": [
    "pip install pytorch-transformers"
   ]
  },
  {
   "cell_type": "code",
   "execution_count": 9,
   "id": "04bce42c",
   "metadata": {},
   "outputs": [
    {
     "name": "stdout",
     "output_type": "stream",
     "text": [
      " What is the fastest car in the world\n"
     ]
    }
   ],
   "source": [
    "# Import required libraries\n",
    "import torch\n",
    "from pytorch_transformers import GPT2Tokenizer, GPT2LMHeadModel\n",
    "\n",
    "# Load pre-trained model tokenizer (vocabulary)\n",
    "tokenizer = GPT2Tokenizer.from_pretrained('gpt2')\n",
    "\n",
    "# Encode a text inputs\n",
    "text = \"What is the fastest car in the\"\n",
    "indexed_tokens = tokenizer.encode(text)\n",
    "\n",
    "# Convert indexed tokens in a PyTorch tensor\n",
    "tokens_tensor = torch.tensor([indexed_tokens])\n",
    "\n",
    "# Load pre-trained model (weights)\n",
    "model = GPT2LMHeadModel.from_pretrained('gpt2')\n",
    "\n",
    "# Set the model in evaluation mode to deactivate the DropOut modules\n",
    "model.eval()\n",
    "\n",
    "# If you have a GPU, put everything on cuda\n",
    "# tokens_tensor = tokens_tensor.to('cuda')\n",
    "# model.to('cuda')\n",
    "\n",
    "# Predict all tokens\n",
    "with torch.no_grad():\n",
    "    outputs = model(tokens_tensor)\n",
    "    predictions = outputs[0]\n",
    "\n",
    "# Get the predicted next sub-word\n",
    "predicted_index = torch.argmax(predictions[0, -1, :]).item()\n",
    "predicted_text = tokenizer.decode(indexed_tokens + [predicted_index])\n",
    "\n",
    "# Print the predicted word\n",
    "print(predicted_text)"
   ]
  },
  {
   "cell_type": "code",
   "execution_count": 7,
   "id": "33469f88",
   "metadata": {},
   "outputs": [],
   "source": [
    "#!git clone https://github.com/huggingface/pytorch-transformers.git"
   ]
  },
  {
   "cell_type": "code",
   "execution_count": null,
   "id": "8fa50f97",
   "metadata": {},
   "outputs": [],
   "source": []
  },
  {
   "cell_type": "code",
   "execution_count": null,
   "id": "2b6bce66",
   "metadata": {},
   "outputs": [],
   "source": [
    "\n"
   ]
  },
  {
   "cell_type": "code",
   "execution_count": null,
   "id": "f3323732",
   "metadata": {},
   "outputs": [],
   "source": []
  }
 ],
 "metadata": {
  "kernelspec": {
   "display_name": "Python 3",
   "language": "python",
   "name": "python3"
  },
  "language_info": {
   "codemirror_mode": {
    "name": "ipython",
    "version": 3
   },
   "file_extension": ".py",
   "mimetype": "text/x-python",
   "name": "python",
   "nbconvert_exporter": "python",
   "pygments_lexer": "ipython3",
   "version": "3.8.8"
  }
 },
 "nbformat": 4,
 "nbformat_minor": 5
}
